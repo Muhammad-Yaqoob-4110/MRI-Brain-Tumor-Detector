{
 "cells": [
  {
   "cell_type": "markdown",
   "metadata": {},
   "source": [
    "### MRI brain tumor detection dataset\n",
    "Dataset link: https://www.kaggle.com/datasets/navoneel/brain-mri-images-for-brain-tumor-detection"
   ]
  },
  {
   "cell_type": "markdown",
   "metadata": {},
   "source": [
    "### Import packages"
   ]
  },
  {
   "cell_type": "code",
   "execution_count": 1,
   "metadata": {},
   "outputs": [
    {
     "name": "stderr",
     "output_type": "stream",
     "text": [
      "Matplotlib is building the font cache; this may take a moment.\n"
     ]
    }
   ],
   "source": [
    "import numpy as np\n",
    "\n",
    "import torch\n",
    "# DataLoader object is going to help us to iterate through our data very easily.It help us to break out our dataset into mini batches.\n",
    "from torch.utils.data import Dataset, DataLoader \n",
    "\n",
    "# glob: glob go to the directory of our dataset and grab all the images.\n",
    "import glob\n",
    "\n",
    "# matplotlib: visualizing stuff in python\n",
    "import matplotlib.pyplot  as plt\n",
    "\n",
    "# sklearn are used to evaluate the performance of our model. Confusion Matrix is a way to numerically represent four different combinations of right or wrong for our dataset.\n",
    "# accuracy score: to evaluate the performance of their classifier.\n",
    "# <!-- ![img alt text](confusion_matrix.png) -->\n",
    "from sklearn.metrics import confusion_matrix, accuracy_score\n",
    "\n",
    "# cv2 is a computer vision package. It helps to read image data and video data.\n",
    "import cv2"
   ]
  },
  {
   "cell_type": "markdown",
   "metadata": {},
   "source": [
    "### Reading the Images"
   ]
  },
  {
   "cell_type": "code",
   "execution_count": null,
   "metadata": {},
   "outputs": [],
   "source": [
    "tumor = []\n",
    "path = \"./brain_tumor_dataset/yes\""
   ]
  }
 ],
 "metadata": {
  "kernelspec": {
   "display_name": "Python 3",
   "language": "python",
   "name": "python3"
  },
  "language_info": {
   "codemirror_mode": {
    "name": "ipython",
    "version": 3
   },
   "file_extension": ".py",
   "mimetype": "text/x-python",
   "name": "python",
   "nbconvert_exporter": "python",
   "pygments_lexer": "ipython3",
   "version": "3.12.1"
  }
 },
 "nbformat": 4,
 "nbformat_minor": 2
}
